{
  "nbformat": 4,
  "nbformat_minor": 0,
  "metadata": {
    "colab": {
      "provenance": [],
      "authorship_tag": "ABX9TyP+fH2cfmB3XYxXnsYwiV2h",
      "include_colab_link": true
    },
    "kernelspec": {
      "name": "python3",
      "display_name": "Python 3"
    },
    "language_info": {
      "name": "python"
    }
  },
  "cells": [
    {
      "cell_type": "markdown",
      "metadata": {
        "id": "view-in-github",
        "colab_type": "text"
      },
      "source": [
        "<a href=\"https://colab.research.google.com/github/Devinarukula57/2025_khubTasks/blob/main/KhubTasks.ipynb\" target=\"_parent\"><img src=\"https://colab.research.google.com/assets/colab-badge.svg\" alt=\"Open In Colab\"/></a>"
      ]
    },
    {
      "cell_type": "markdown",
      "source": [
        "Day 01 -\n",
        "03/08/2025"
      ],
      "metadata": {
        "id": "MaA8vi47Hp6c"
      }
    },
    {
      "cell_type": "markdown",
      "source": [
        "Python Basics"
      ],
      "metadata": {
        "id": "tS-KdtAtj3Rd"
      }
    },
    {
      "cell_type": "markdown",
      "source": [
        "Variables"
      ],
      "metadata": {
        "id": "B50E_mIhMSH7"
      }
    },
    {
      "cell_type": "code",
      "source": [
        "name = \"john\"\n",
        "age = 20\n",
        "is_new = True\n",
        "print(name)\n",
        "print(age)\n",
        "print(is_new)"
      ],
      "metadata": {
        "colab": {
          "base_uri": "https://localhost:8080/"
        },
        "id": "b7mtj5h3MJD7",
        "outputId": "7a9ec3c0-7d7f-4250-e1c9-9406a773fb4d"
      },
      "execution_count": null,
      "outputs": [
        {
          "output_type": "stream",
          "name": "stdout",
          "text": [
            "john\n",
            "20\n",
            "True\n"
          ]
        }
      ]
    },
    {
      "cell_type": "code",
      "source": [
        "a=5\n",
        "b=7\n",
        "sum=a+b\n",
        "print(sum)"
      ],
      "metadata": {
        "colab": {
          "base_uri": "https://localhost:8080/"
        },
        "id": "8sGdY4_bNuok",
        "outputId": "e0e77850-d05e-441f-ab7b-09d1bdff4393"
      },
      "execution_count": null,
      "outputs": [
        {
          "output_type": "stream",
          "name": "stdout",
          "text": [
            "12\n"
          ]
        }
      ]
    },
    {
      "cell_type": "code",
      "source": [
        "a=20\n",
        "b=60.8\n",
        "print(type(a))\n",
        "print(type(b))"
      ],
      "metadata": {
        "colab": {
          "base_uri": "https://localhost:8080/"
        },
        "id": "dv2AVl4GOQqO",
        "outputId": "72246486-20b4-4b6f-e6c7-ed2015e725e7"
      },
      "execution_count": null,
      "outputs": [
        {
          "output_type": "stream",
          "name": "stdout",
          "text": [
            "<class 'int'>\n",
            "<class 'float'>\n"
          ]
        }
      ]
    },
    {
      "cell_type": "code",
      "source": [
        "int=5\n",
        "str=\"joy\"\n",
        "print(int)\n",
        "print(str)"
      ],
      "metadata": {
        "colab": {
          "base_uri": "https://localhost:8080/"
        },
        "id": "bvZ4M-2dQDLu",
        "outputId": "ab2ea94a-42eb-4910-9e38-2a5672d7b423"
      },
      "execution_count": null,
      "outputs": [
        {
          "output_type": "stream",
          "name": "stdout",
          "text": [
            "5\n",
            "joy\n"
          ]
        }
      ]
    },
    {
      "cell_type": "markdown",
      "source": [
        "string methods"
      ],
      "metadata": {
        "id": "GZXixv1JZSWD"
      }
    },
    {
      "cell_type": "code",
      "source": [
        "a = \"Devi Varshini\"\n",
        "print(a[2:5])"
      ],
      "metadata": {
        "id": "o-4kiVnyZR6W",
        "colab": {
          "base_uri": "https://localhost:8080/"
        },
        "outputId": "74e415f9-fb5b-4ccc-9d69-9e6c2dfc5bc2"
      },
      "execution_count": null,
      "outputs": [
        {
          "output_type": "stream",
          "name": "stdout",
          "text": [
            "vi \n"
          ]
        }
      ]
    },
    {
      "cell_type": "code",
      "source": [],
      "metadata": {
        "id": "UtBCByg9lg02"
      },
      "execution_count": null,
      "outputs": []
    },
    {
      "cell_type": "code",
      "source": [
        "a,b,c = \"devi\", \"sailu\" ,\"chandini\"\n",
        "print(a,b,c)"
      ],
      "metadata": {
        "colab": {
          "base_uri": "https://localhost:8080/"
        },
        "id": "7NVnBKNFR7hw",
        "outputId": "a9ae4529-b5b5-4a4e-cac1-814cfa0e9dfe"
      },
      "execution_count": null,
      "outputs": [
        {
          "output_type": "stream",
          "name": "stdout",
          "text": [
            "devi sailu chandini\n"
          ]
        }
      ]
    },
    {
      "cell_type": "code",
      "source": [
        "str = \"Hello World!\"\n",
        "a = (str.endswith(\"!\"))\n",
        "print(a)"
      ],
      "metadata": {
        "colab": {
          "base_uri": "https://localhost:8080/"
        },
        "id": "WB-MKTSPRwRK",
        "outputId": "be1ca836-7928-41de-87bd-e484f3b050c3"
      },
      "execution_count": null,
      "outputs": [
        {
          "output_type": "stream",
          "name": "stdout",
          "text": [
            "True\n"
          ]
        }
      ]
    },
    {
      "cell_type": "code",
      "source": [
        "a = 12\n",
        "b = 54\n",
        "c = a+b\n",
        "print(c)"
      ],
      "metadata": {
        "colab": {
          "base_uri": "https://localhost:8080/"
        },
        "id": "KVE_xk_YaBlP",
        "outputId": "60145e59-232b-4743-a206-271d00beacb4"
      },
      "execution_count": null,
      "outputs": [
        {
          "output_type": "stream",
          "name": "stdout",
          "text": [
            "66\n"
          ]
        }
      ]
    },
    {
      "cell_type": "code",
      "source": [
        "favorite_movie = \"Jersey\"\n",
        "print(\"My favorite movie is\",favorite_movie)"
      ],
      "metadata": {
        "colab": {
          "base_uri": "https://localhost:8080/"
        },
        "id": "wKMXiKaRV5qh",
        "outputId": "60eb80e7-9a5e-4105-9af5-de6b249532cb"
      },
      "execution_count": null,
      "outputs": [
        {
          "output_type": "stream",
          "name": "stdout",
          "text": [
            "My favorite movie is Jersey\n"
          ]
        }
      ]
    },
    {
      "cell_type": "code",
      "source": [
        "name = \"varshini\"\n",
        "task = \"is learing python\"\n",
        "print(name,task)"
      ],
      "metadata": {
        "colab": {
          "base_uri": "https://localhost:8080/"
        },
        "id": "KEb7GEKPWoab",
        "outputId": "b7425034-69ef-4e9c-ef8f-12799926c857"
      },
      "execution_count": null,
      "outputs": [
        {
          "output_type": "stream",
          "name": "stdout",
          "text": [
            "varshini is learing python\n"
          ]
        }
      ]
    },
    {
      "cell_type": "code",
      "source": [
        "first_name = \"Devi\"\n",
        "last_name = \"Narukula\"\n",
        "full_name = first_name +\" \" +last_name\n",
        "print(full_name)"
      ],
      "metadata": {
        "colab": {
          "base_uri": "https://localhost:8080/"
        },
        "id": "MHpZwt-YXtIu",
        "outputId": "2b388624-29a0-4159-8e94-4255a3c68a38"
      },
      "execution_count": null,
      "outputs": [
        {
          "output_type": "stream",
          "name": "stdout",
          "text": [
            "Devi Narukula\n"
          ]
        }
      ]
    },
    {
      "cell_type": "code",
      "source": [
        "str = \"hii devi\"\n",
        "print(str.upper())\n",
        "print(str.lower())\n",
        "print(str.capitalize())\n",
        "print(str.title())"
      ],
      "metadata": {
        "colab": {
          "base_uri": "https://localhost:8080/"
        },
        "id": "ic61qZjCXiLL",
        "outputId": "194dae26-1583-4bdb-eda5-f3f089dcc07f"
      },
      "execution_count": null,
      "outputs": [
        {
          "output_type": "stream",
          "name": "stdout",
          "text": [
            "HII DEVI\n",
            "hii devi\n",
            "Hii devi\n",
            "Hii Devi\n"
          ]
        }
      ]
    },
    {
      "cell_type": "code",
      "source": [
        "age = 20\n",
        "str = f\"My is name is Devi, My age is+ {age}\"\n",
        "print(str)"
      ],
      "metadata": {
        "colab": {
          "base_uri": "https://localhost:8080/"
        },
        "id": "-TTSF7b-Zich",
        "outputId": "79ac9878-1425-42a2-c77f-b89afb5f2cab"
      },
      "execution_count": null,
      "outputs": [
        {
          "output_type": "stream",
          "name": "stdout",
          "text": [
            "My is name is Devi, My age is 20\n"
          ]
        }
      ]
    },
    {
      "cell_type": "code",
      "source": [
        "a= \"banana\"\n",
        "print(a.count(\"a\"))"
      ],
      "metadata": {
        "colab": {
          "base_uri": "https://localhost:8080/"
        },
        "id": "-_qh5Yolev2y",
        "outputId": "cd62c5ed-6525-4f0c-df3a-c82a7edc3c1c"
      },
      "execution_count": null,
      "outputs": [
        {
          "output_type": "stream",
          "name": "stdout",
          "text": [
            "3\n"
          ]
        }
      ]
    },
    {
      "cell_type": "code",
      "source": [
        "a=\"hello world \"\n",
        "print (a[6:10:3])"
      ],
      "metadata": {
        "colab": {
          "base_uri": "https://localhost:8080/"
        },
        "id": "RlABZ06HfC4U",
        "outputId": "7d5445d5-9ba4-4b27-a9df-00f86f0379ec"
      },
      "execution_count": null,
      "outputs": [
        {
          "output_type": "stream",
          "name": "stdout",
          "text": [
            "wl\n"
          ]
        }
      ]
    },
    {
      "cell_type": "code",
      "source": [
        "text = \"varshini\"\n",
        "print(len(text))"
      ],
      "metadata": {
        "colab": {
          "base_uri": "https://localhost:8080/"
        },
        "id": "VXbmVOuVbCGV",
        "outputId": "5e1b23ba-9aeb-477f-8c55-255e1ac6165e"
      },
      "execution_count": null,
      "outputs": [
        {
          "output_type": "stream",
          "name": "stdout",
          "text": [
            "8\n"
          ]
        }
      ]
    },
    {
      "cell_type": "markdown",
      "source": [
        "boolean"
      ],
      "metadata": {
        "id": "uibN12-1wGCb"
      }
    },
    {
      "cell_type": "code",
      "source": [
        "student = True\n",
        "factly = False\n",
        "print(type(student))\n",
        "print(type(factly))"
      ],
      "metadata": {
        "colab": {
          "base_uri": "https://localhost:8080/"
        },
        "id": "ymd9a5RRbSPr",
        "outputId": "7d6312d4-c4e5-46d0-9951-507f591f0222"
      },
      "execution_count": null,
      "outputs": [
        {
          "output_type": "stream",
          "name": "stdout",
          "text": [
            "<class 'bool'>\n",
            "<class 'bool'>\n"
          ]
        }
      ]
    },
    {
      "cell_type": "code",
      "source": [
        "print(10 > 9)\n",
        "print(10 < 9)\n",
        "print(10 == 9)\n",
        "print(10 == 9)\n",
        "print(10 != 9)"
      ],
      "metadata": {
        "colab": {
          "base_uri": "https://localhost:8080/"
        },
        "id": "uhVoDTc8lu79",
        "outputId": "391d0871-51e9-4e55-aad5-bac5626d337c"
      },
      "execution_count": null,
      "outputs": [
        {
          "output_type": "stream",
          "name": "stdout",
          "text": [
            "True\n",
            "False\n",
            "False\n",
            "False\n",
            "True\n"
          ]
        }
      ]
    },
    {
      "cell_type": "code",
      "source": [
        "age = 20\n",
        "is_teenage = age > 12 and age <= 20\n",
        "print(is_teenage)"
      ],
      "metadata": {
        "colab": {
          "base_uri": "https://localhost:8080/"
        },
        "id": "QdiyOMxUddYw",
        "outputId": "ec18ef15-2c25-4313-f29b-98df57782aa1"
      },
      "execution_count": null,
      "outputs": [
        {
          "output_type": "stream",
          "name": "stdout",
          "text": [
            "True\n"
          ]
        }
      ]
    },
    {
      "cell_type": "markdown",
      "source": [
        "opertors\n",
        "+ (+) Addition\t3 + 2\t5\n",
        "-\t(-) Subtraction\t5 - 2\t3\n",
        "*\t(*) Multiplication\t4 * 2\t8\n",
        "\n",
        "* /\tDivision\t10 / 2\t5.0\n",
        "\n",
        "* //\tFloor Division\t10 // 3\t3\n",
        "\n",
        "* %\tModulus (Remainder)\t10 % 3\t1\n",
        "\n",
        "*\tExponent (power)\t2 ** 3\t8"
      ],
      "metadata": {
        "id": "4rQAk58OhVhK"
      }
    },
    {
      "cell_type": "code",
      "source": [
        "a = 5\n",
        "b = 20\n",
        "print(a+b)\n",
        "print(a-b)\n",
        "print(a*b)\n",
        "print(a/b)"
      ],
      "metadata": {
        "id": "6Dm0wjEVhGxU",
        "colab": {
          "base_uri": "https://localhost:8080/"
        },
        "outputId": "740c9605-fcc8-452a-ead0-c577031304f6"
      },
      "execution_count": null,
      "outputs": [
        {
          "output_type": "stream",
          "name": "stdout",
          "text": [
            "25\n",
            "-15\n",
            "100\n",
            "0.25\n"
          ]
        }
      ]
    },
    {
      "cell_type": "code",
      "source": [
        "x = 10\n",
        "print(a>5 and a<20)\n",
        "print(a<5 or a<20)\n",
        "print(not(a==10))"
      ],
      "metadata": {
        "colab": {
          "base_uri": "https://localhost:8080/"
        },
        "id": "zfr4N12NN-ee",
        "outputId": "3ea90845-7c22-4c88-e11d-3befdc112e6f"
      },
      "execution_count": null,
      "outputs": [
        {
          "output_type": "stream",
          "name": "stdout",
          "text": [
            "False\n",
            "True\n",
            "True\n"
          ]
        }
      ]
    },
    {
      "cell_type": "code",
      "source": [
        "x = 8\n",
        "y =10\n",
        "print(x == y)\n",
        "print(x != y)\n",
        "print(x > y)\n",
        "print(x < y)"
      ],
      "metadata": {
        "colab": {
          "base_uri": "https://localhost:8080/"
        },
        "id": "F5ie_Rq4Oweq",
        "outputId": "7f9b3e5a-a52c-4ac5-8530-2ac4596eefc3"
      },
      "execution_count": null,
      "outputs": [
        {
          "output_type": "stream",
          "name": "stdout",
          "text": [
            "False\n",
            "True\n",
            "False\n",
            "True\n"
          ]
        }
      ]
    },
    {
      "cell_type": "code",
      "source": [
        "a = 10\n",
        "b = 5\n",
        "print(a+b)\n",
        "print(a>b)\n",
        "print(a>5 and b<10)"
      ],
      "metadata": {
        "colab": {
          "base_uri": "https://localhost:8080/"
        },
        "id": "db2isIwLPLB0",
        "outputId": "a29f5e18-0ae3-4e0c-ffbf-03fb8dced4b2"
      },
      "execution_count": null,
      "outputs": [
        {
          "output_type": "stream",
          "name": "stdout",
          "text": [
            "15\n",
            "True\n",
            "True\n"
          ]
        }
      ]
    },
    {
      "cell_type": "markdown",
      "source": [
        "conditional statements"
      ],
      "metadata": {
        "id": "5Rkw7QPdds6M"
      }
    },
    {
      "cell_type": "markdown",
      "source": [
        "if startement"
      ],
      "metadata": {
        "id": "GPsjLq19r7BW"
      }
    },
    {
      "cell_type": "code",
      "source": [
        "x = 10\n",
        "if x > 5:\n",
        "  print(\"x is greater than 5\")"
      ],
      "metadata": {
        "id": "IB7bhmpyP88r",
        "colab": {
          "base_uri": "https://localhost:8080/"
        },
        "outputId": "18c17246-f6dd-4688-b23d-ffb39adad56d"
      },
      "execution_count": null,
      "outputs": [
        {
          "output_type": "stream",
          "name": "stdout",
          "text": [
            "x is greater than 5\n"
          ]
        }
      ]
    },
    {
      "cell_type": "markdown",
      "source": [
        "if-else statement"
      ],
      "metadata": {
        "id": "AoV7OPiisEyj"
      }
    },
    {
      "cell_type": "code",
      "source": [
        "age = 20\n",
        "if age >= 18:\n",
        "  print(\"you are eligible to vote\")\n",
        "else:\n",
        "  print(\"you are not eligible to vote\")"
      ],
      "metadata": {
        "colab": {
          "base_uri": "https://localhost:8080/"
        },
        "id": "74kjlroisCb8",
        "outputId": "702b1ca9-4cca-4a74-9741-1e90baddfaab"
      },
      "execution_count": null,
      "outputs": [
        {
          "output_type": "stream",
          "name": "stdout",
          "text": [
            "you are eligible to vote\n"
          ]
        }
      ]
    },
    {
      "cell_type": "markdown",
      "source": [
        "if-elif-else statement"
      ],
      "metadata": {
        "id": "xXXVQMUvsyuw"
      }
    },
    {
      "cell_type": "code",
      "source": [
        "int = 7\n",
        "if int > 0:\n",
        "  print(\"int is greater than 7\")\n",
        "elif int == 7:\n",
        "  print(\"int is equal to 7\")\n",
        "else:\n",
        "  print(\"int is less than 7\")"
      ],
      "metadata": {
        "colab": {
          "base_uri": "https://localhost:8080/"
        },
        "id": "KDaFlfkPtCA9",
        "outputId": "ff1bc607-7016-484d-d004-3fc792c33069"
      },
      "execution_count": null,
      "outputs": [
        {
          "output_type": "stream",
          "name": "stdout",
          "text": [
            "int is greater than 7\n"
          ]
        }
      ]
    },
    {
      "cell_type": "markdown",
      "source": [
        " Nested if"
      ],
      "metadata": {
        "id": "0FJS5ecFt9-d"
      }
    },
    {
      "cell_type": "code",
      "source": [
        "num = 27\n",
        "if num > 0:\n",
        "  print(\"positive number\")\n",
        "  if num % 2 == 0:\n",
        "    print(\"even number\")\n",
        "  else:\n",
        "        print(\"Odd number\")"
      ],
      "metadata": {
        "colab": {
          "base_uri": "https://localhost:8080/"
        },
        "id": "AeRnQzaTuCK8",
        "outputId": "44f21335-8ac0-43ef-dde2-19771e5856ed"
      },
      "execution_count": null,
      "outputs": [
        {
          "output_type": "stream",
          "name": "stdout",
          "text": [
            "positive number\n",
            "Odd number\n"
          ]
        }
      ]
    },
    {
      "cell_type": "markdown",
      "source": [
        "* Lists\n",
        "\n",
        "Ordered\n",
        "\n",
        "Changeable (mutable)\n",
        "\n",
        "Allow duplicates\n",
        "\n"
      ],
      "metadata": {
        "id": "LUb5UnTIyLIr"
      }
    },
    {
      "cell_type": "code",
      "source": [
        "fruits =[\"apple\",\"cherry\",\"banana\"]\n",
        "print(fruits)"
      ],
      "metadata": {
        "colab": {
          "base_uri": "https://localhost:8080/"
        },
        "id": "d3ddCX51zb7Q",
        "outputId": "2484dfe2-8b40-4ec6-bbfa-dc2bdce51425"
      },
      "execution_count": null,
      "outputs": [
        {
          "output_type": "stream",
          "name": "stdout",
          "text": [
            "['apple', 'cherry', 'banana']\n"
          ]
        }
      ]
    },
    {
      "cell_type": "code",
      "source": [
        "fruits = [\"apple\", \"banana\", \"cherry\"]\n",
        "fruits.append(\"orange\")\n",
        "print(fruits)\n",
        "\n",
        "fruits.remove(\"banana\")\n",
        "print(fruits)\n",
        "\n",
        "for i in range(len(fruits)):\n",
        "  print(fruits[i])\n",
        "\n",
        "fruits.sort()\n",
        "print(fruits)\n",
        "\n",
        "fruits = fruits.copy()\n",
        "print(fruits)\n",
        "\n",
        "fruits2 =[1,2,3]\n",
        "fruits3 = fruits + fruits2\n",
        "print(fruits3)\n",
        "\n",
        "fruits.pop(2)\n",
        "print(fruits)"
      ],
      "metadata": {
        "colab": {
          "base_uri": "https://localhost:8080/"
        },
        "id": "XstWZyIJzxyP",
        "outputId": "314d2541-d19b-44c0-ddad-784da71553b5"
      },
      "execution_count": null,
      "outputs": [
        {
          "output_type": "stream",
          "name": "stdout",
          "text": [
            "['apple', 'banana', 'cherry', 'orange']\n",
            "['apple', 'cherry', 'orange']\n",
            "apple\n",
            "cherry\n",
            "orange\n",
            "['apple', 'cherry', 'orange']\n",
            "['apple', 'cherry', 'orange']\n",
            "['apple', 'cherry', 'orange', 1, 2, 3]\n",
            "['apple', 'cherry']\n"
          ]
        }
      ]
    },
    {
      "cell_type": "markdown",
      "source": [
        "Tuples\n"
      ],
      "metadata": {
        "id": "1cuqhs_N2mlw"
      }
    },
    {
      "cell_type": "code",
      "source": [
        "tuple = (\"pen\", \"book\", \"pencil\")\n",
        "print(tuple)"
      ],
      "metadata": {
        "colab": {
          "base_uri": "https://localhost:8080/"
        },
        "id": "zO4HS1P-294Q",
        "outputId": "daed3d84-08c5-4a1b-8d9c-dcfba29eb7b3"
      },
      "execution_count": null,
      "outputs": [
        {
          "output_type": "stream",
          "name": "stdout",
          "text": [
            "('pen', 'book', 'pencil')\n"
          ]
        }
      ]
    },
    {
      "cell_type": "code",
      "source": [
        "tuple = (\"pen\", \"book\", \"pencil\")\n",
        "print(tuple[2])\n",
        "\n",
        "tuple.index(\"pencil\")\n",
        "print(tuple)\n",
        "\n",
        "tuple.count(\"pen\")\n",
        "print(tuple)"
      ],
      "metadata": {
        "colab": {
          "base_uri": "https://localhost:8080/"
        },
        "id": "wQC9aTlh3RF8",
        "outputId": "57d6ef18-3bc3-4e9a-88b5-0f7b864c1b4a"
      },
      "execution_count": null,
      "outputs": [
        {
          "output_type": "stream",
          "name": "stdout",
          "text": [
            "pencil\n",
            "('pen', 'book', 'pencil')\n",
            "('pen', 'book', 'pencil')\n"
          ]
        }
      ]
    },
    {
      "cell_type": "code",
      "source": [
        "tuple = (\"pen\", \"book\", \"pencil\")\n",
        "n = tuple.count(\"pen\")\n",
        "print(n)\n",
        "\n",
        "n = tuple.index(\"book\")\n",
        "print(n)"
      ],
      "metadata": {
        "colab": {
          "base_uri": "https://localhost:8080/"
        },
        "id": "tHp73CS45DoB",
        "outputId": "779b75e9-f276-4a22-9af2-eeba6a3e6491"
      },
      "execution_count": null,
      "outputs": [
        {
          "output_type": "stream",
          "name": "stdout",
          "text": [
            "1\n",
            "1\n"
          ]
        }
      ]
    },
    {
      "cell_type": "markdown",
      "source": [
        "Sets"
      ],
      "metadata": {
        "id": "6z6LhcK45zVP"
      }
    },
    {
      "cell_type": "code",
      "source": [
        "set = {1, 2, 3, 4}\n",
        "fruits = {\"apple\", \"banana\", \"cherry\"}\n",
        "print(set)\n",
        "print(fruits)"
      ],
      "metadata": {
        "colab": {
          "base_uri": "https://localhost:8080/"
        },
        "id": "Obj8DxHz6DBQ",
        "outputId": "6131d118-3dd3-46cc-fa2f-eaae079c25a4"
      },
      "execution_count": null,
      "outputs": [
        {
          "output_type": "stream",
          "name": "stdout",
          "text": [
            "{1, 2, 3, 4}\n",
            "{'banana', 'cherry', 'apple'}\n"
          ]
        }
      ]
    },
    {
      "cell_type": "code",
      "source": [
        "set1 = {1, 2, 2, 3}\n",
        "set2 = {3,4,5}\n",
        "print(set1)\n",
        "print(set1.union(set2))\n",
        "print(set1.intersection(set2))\n",
        "print(set1.difference(set2))"
      ],
      "metadata": {
        "colab": {
          "base_uri": "https://localhost:8080/"
        },
        "id": "XqxbpN5z6N3Q",
        "outputId": "48d870e6-3cac-4c1d-d4af-29a4a5741254"
      },
      "execution_count": null,
      "outputs": [
        {
          "output_type": "stream",
          "name": "stdout",
          "text": [
            "{1, 2, 3}\n",
            "{1, 2, 3, 4, 5}\n",
            "{3}\n",
            "{1, 2}\n"
          ]
        }
      ]
    },
    {
      "cell_type": "markdown",
      "source": [
        "Dictionaries"
      ],
      "metadata": {
        "id": "-EK30F0J-7Ea"
      }
    },
    {
      "cell_type": "code",
      "source": [
        "student = {\"name\": \"devi\", \"age\": 20}\n",
        "print(student)\n",
        "print(student[\"name\"])\n",
        "print(student.get(\"age\"))\n",
        "student[\"age\"] = 21\n",
        "print(student)\n",
        "student[\"branch\"] = \"CSE\"\n",
        "print(student)"
      ],
      "metadata": {
        "colab": {
          "base_uri": "https://localhost:8080/"
        },
        "id": "bzpqkgUK-482",
        "outputId": "cf411f5a-9147-41e8-ec6b-25625b509d88"
      },
      "execution_count": null,
      "outputs": [
        {
          "output_type": "stream",
          "name": "stdout",
          "text": [
            "{'name': 'devi', 'age': 20}\n",
            "devi\n",
            "20\n",
            "{'name': 'devi', 'age': 21}\n",
            "{'name': 'devi', 'age': 21, 'branch': 'CSE'}\n"
          ]
        }
      ]
    },
    {
      "cell_type": "code",
      "source": [
        "student = {\n",
        "    \"name\": \"Devi\",\n",
        "    \"age\": 20\n",
        "}\n",
        "print(student[\"name\"])\n",
        "print(student.get(\"age\"))\n",
        "student.pop(\"college\", None)\n"
      ],
      "metadata": {
        "colab": {
          "base_uri": "https://localhost:8080/"
        },
        "id": "ckaIU8ndBInZ",
        "outputId": "bbc72777-1131-4f4f-8607-0771c42c6e20"
      },
      "execution_count": null,
      "outputs": [
        {
          "output_type": "stream",
          "name": "stdout",
          "text": [
            "Devi\n",
            "20\n"
          ]
        }
      ]
    },
    {
      "cell_type": "code",
      "source": [
        "thisdict =\t{\n",
        "  \"branch\": \"CSE\",\n",
        "  \"collage\": \"KietW\",\n",
        "  \"year\": 2027\n",
        "}\n",
        "for x in thisdict:\n",
        "  print(thisdict[x])\n"
      ],
      "metadata": {
        "colab": {
          "base_uri": "https://localhost:8080/"
        },
        "id": "poGJiBoGBhLE",
        "outputId": "8c2d16c0-eac5-47d7-8471-b5fde93067ff"
      },
      "execution_count": null,
      "outputs": [
        {
          "output_type": "stream",
          "name": "stdout",
          "text": [
            "CSE\n",
            "KietW\n",
            "2027\n"
          ]
        }
      ]
    },
    {
      "cell_type": "markdown",
      "source": [
        "Match Case\n",
        ": It is used for pattern matching"
      ],
      "metadata": {
        "id": "oNdt3XqUB_BR"
      }
    },
    {
      "cell_type": "code",
      "source": [
        "num = 2\n",
        "\n",
        "match num:\n",
        "    case 1:\n",
        "        print(\"One\")\n",
        "    case 2:\n",
        "        print(\"Two\")\n",
        "    case 3:\n",
        "        print(\"Three\")\n",
        "    case _:\n",
        "        print(\"No match\")"
      ],
      "metadata": {
        "colab": {
          "base_uri": "https://localhost:8080/"
        },
        "id": "UN4BV4P0CSmc",
        "outputId": "6c97a053-cc9e-4e01-bb4b-414f19051505"
      },
      "execution_count": null,
      "outputs": [
        {
          "output_type": "stream",
          "name": "stdout",
          "text": [
            "Two\n"
          ]
        }
      ]
    },
    {
      "cell_type": "code",
      "source": [
        "month = 8\n",
        "\n",
        "match month:\n",
        "    case 1:\n",
        "        print(\"January\")\n",
        "    case 2:\n",
        "        print(\"February\")\n",
        "    case 3:\n",
        "        print(\"March\")\n",
        "    case 4:\n",
        "        print(\"April\")\n",
        "    case 5:\n",
        "        print(\"May\")\n",
        "    case 6:\n",
        "        print(\"June\")\n",
        "    case 7:\n",
        "        print(\"July\")\n",
        "    case 8:\n",
        "        print(\"August\")\n",
        "    case 9:\n",
        "        print(\"September\")\n",
        "    case 10:\n",
        "        print(\"October\")\n",
        "    case 11:\n",
        "        print(\"November\")\n",
        "    case 12:\n",
        "        print(\"December\")\n",
        "    case _:\n",
        "        print(\"Invalid month\")"
      ],
      "metadata": {
        "colab": {
          "base_uri": "https://localhost:8080/"
        },
        "id": "ZnpNHFYuDEAm",
        "outputId": "b9987fba-4de2-4800-fa5e-749dc4e1c8db"
      },
      "execution_count": null,
      "outputs": [
        {
          "output_type": "stream",
          "name": "stdout",
          "text": [
            "August\n"
          ]
        }
      ]
    }
  ]
}